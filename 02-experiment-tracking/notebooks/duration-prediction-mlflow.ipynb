{
 "cells": [
  {
   "cell_type": "code",
   "execution_count": 1,
   "id": "85e11be4",
   "metadata": {},
   "outputs": [
    {
     "name": "stdout",
     "output_type": "stream",
     "text": [
      "Python 3.9.13\r\n"
     ]
    }
   ],
   "source": [
    "!python -V"
   ]
  },
  {
   "cell_type": "code",
   "execution_count": 2,
   "id": "cfdd63cb",
   "metadata": {},
   "outputs": [],
   "source": [
    "import pandas as pd\n",
    "import pickle\n",
    "import seaborn as sns\n",
    "import matplotlib.pyplot as plt\n",
    "\n",
    "from sklearn.feature_extraction import DictVectorizer\n",
    "from sklearn.linear_model import LinearRegression\n",
    "from sklearn.linear_model import Lasso\n",
    "from sklearn.linear_model import Ridge\n",
    "\n",
    "from sklearn.metrics import mean_squared_error"
   ]
  },
  {
   "cell_type": "code",
   "execution_count": 3,
   "id": "b06c5c37",
   "metadata": {},
   "outputs": [],
   "source": [
    "def read_dataframe(filename):\n",
    "    \n",
    "    df = pd.read_parquet(filename)\n",
    "\n",
    "    df['duration'] = df.lpep_dropoff_datetime - df.lpep_pickup_datetime\n",
    "    df.duration = df.duration.apply(lambda td: td.total_seconds() / 60)\n",
    "\n",
    "    df = df[(df.duration >= 1) & (df.duration <= 60)]\n",
    "\n",
    "    categorical = ['PULocationID', 'DOLocationID']\n",
    "    df[categorical] = df[categorical].astype(str)\n",
    "    \n",
    "    return df"
   ]
  },
  {
   "cell_type": "code",
   "execution_count": 4,
   "id": "c9f1a249",
   "metadata": {
    "scrolled": true
   },
   "outputs": [],
   "source": [
    "df_train = read_dataframe('../resources/inputs/green_tripdata_2021-01.parquet')\n",
    "df_val = read_dataframe('../resources/inputs/green_tripdata_2021-02.parquet')"
   ]
  },
  {
   "cell_type": "code",
   "execution_count": 5,
   "id": "0fa458f4",
   "metadata": {},
   "outputs": [
    {
     "data": {
      "text/plain": [
       "(73908, 61921)"
      ]
     },
     "execution_count": 5,
     "metadata": {},
     "output_type": "execute_result"
    }
   ],
   "source": [
    "len(df_train), len(df_val)"
   ]
  },
  {
   "cell_type": "code",
   "execution_count": 6,
   "id": "ec65d0ad",
   "metadata": {},
   "outputs": [],
   "source": [
    "df_train['PU_DO'] = df_train['PULocationID'] + '_' + df_train['DOLocationID']\n",
    "df_val['PU_DO'] = df_val['PULocationID'] + '_' + df_val['DOLocationID']"
   ]
  },
  {
   "cell_type": "code",
   "execution_count": 7,
   "id": "3dbb0e8d",
   "metadata": {},
   "outputs": [],
   "source": [
    "categorical = ['PU_DO']\n",
    "numerical = ['trip_distance']\n",
    "\n",
    "dv = DictVectorizer()\n",
    "\n",
    "train_dicts = df_train[categorical + numerical].to_dict(orient='records')\n",
    "X_train = dv.fit_transform(train_dicts)\n",
    "\n",
    "val_dicts = df_val[categorical + numerical].to_dict(orient='records')\n",
    "X_val = dv.transform(val_dicts)"
   ]
  },
  {
   "cell_type": "code",
   "execution_count": 8,
   "id": "9d1d03b6",
   "metadata": {},
   "outputs": [],
   "source": [
    "target = 'duration'\n",
    "y_train = df_train[target].values\n",
    "y_val = df_val[target].values"
   ]
  },
  {
   "cell_type": "code",
   "execution_count": 9,
   "id": "abba1238",
   "metadata": {},
   "outputs": [
    {
     "data": {
      "text/plain": [
       "7.75871520559622"
      ]
     },
     "execution_count": 9,
     "metadata": {},
     "output_type": "execute_result"
    }
   ],
   "source": [
    "lr = LinearRegression()\n",
    "lr.fit(X_train, y_train)\n",
    "\n",
    "y_pred = lr.predict(X_val)\n",
    "mean_squared_error(y_val, y_pred, squared=False)"
   ]
  },
  {
   "cell_type": "code",
   "execution_count": 10,
   "id": "e53b3e13",
   "metadata": {},
   "outputs": [],
   "source": [
    "with open('../resources/models/lin_reg.bin', 'wb') as f_out:\n",
    "    pickle.dump((dv, lr), f_out)"
   ]
  },
  {
   "cell_type": "code",
   "execution_count": 11,
   "id": "8e41624d",
   "metadata": {},
   "outputs": [
    {
     "data": {
      "text/plain": [
       "11.167275941179728"
      ]
     },
     "execution_count": 11,
     "metadata": {},
     "output_type": "execute_result"
    }
   ],
   "source": [
    "lr = Lasso(0.01)\n",
    "lr.fit(X_train, y_train)\n",
    "\n",
    "y_pred = lr.predict(X_val)\n",
    "mean_squared_error(y_val, y_pred, squared=False)"
   ]
  },
  {
   "cell_type": "markdown",
   "id": "ab48751e",
   "metadata": {},
   "source": [
    "### MLFlow"
   ]
  },
  {
   "cell_type": "code",
   "execution_count": 12,
   "id": "fa0d9c40",
   "metadata": {
    "scrolled": true
   },
   "outputs": [
    {
     "data": {
      "text/plain": [
       "<Experiment: artifact_location='./mlruns/1', experiment_id='1', lifecycle_stage='active', name='nyc-taxi-experiment', tags={}>"
      ]
     },
     "execution_count": 12,
     "metadata": {},
     "output_type": "execute_result"
    }
   ],
   "source": [
    "import mlflow\n",
    "\n",
    "mlflow.set_tracking_uri(\"sqlite:///../../mlflow.db\")\n",
    "mlflow.set_experiment(\"nyc-taxi-experiment\")"
   ]
  },
  {
   "cell_type": "code",
   "execution_count": 14,
   "id": "f02aeb1a",
   "metadata": {},
   "outputs": [],
   "source": [
    "with mlflow.start_run():\n",
    "    \n",
    "    mlflow.set_tag(\"developer\", \"sebasjp\")\n",
    "    \n",
    "    mlflow.log_param(\"train-data-path\", \"../resources/inputs/green_tripdata_2021-01.parquet\")\n",
    "    mlflow.log_param(\"valid-data-path\", \"../resources/inputs/green_tripdata_2021-02.parquet\")\n",
    "    \n",
    "    alpha = 0.1\n",
    "    mlflow.log_param(\"alpha\", alpha)\n",
    "    \n",
    "    lr = Lasso(alpha)\n",
    "    lr.fit(X_train, y_train)\n",
    "\n",
    "    y_pred = lr.predict(X_val)\n",
    "    rmse = mean_squared_error(y_val, y_pred, squared=False)\n",
    "    \n",
    "    mlflow.log_metric(\"rmse\", rmse)\n",
    "    mlflow.log_artifact(local_path=\"../resources/models/lin_reg.bin\",\n",
    "                        artifact_path=\"models_pickle\")"
   ]
  },
  {
   "cell_type": "markdown",
   "id": "28f12aa8",
   "metadata": {},
   "source": [
    "### Optimización bayesiana con hyperopt y XGBoost"
   ]
  },
  {
   "cell_type": "code",
   "execution_count": 15,
   "id": "e08243e9",
   "metadata": {},
   "outputs": [],
   "source": [
    "import xgboost as xgb\n",
    "from hyperopt import fmin, tpe, hp, STATUS_OK, Trials\n",
    "from hyperopt.pyll import scope"
   ]
  },
  {
   "cell_type": "code",
   "execution_count": 16,
   "id": "682b4513",
   "metadata": {},
   "outputs": [],
   "source": [
    "train = xgb.DMatrix(X_train, label=y_train)\n",
    "valid = xgb.DMatrix(X_val, label=y_val)"
   ]
  },
  {
   "cell_type": "code",
   "execution_count": 19,
   "id": "23f0f233",
   "metadata": {},
   "outputs": [],
   "source": [
    "def objective(params):\n",
    "    with mlflow.start_run():\n",
    "        \n",
    "        booster = xgb.train(\n",
    "            params=params,\n",
    "            dtrain=train,\n",
    "            num_boost_round=10,\n",
    "            evals=[(valid, 'validation')],\n",
    "            early_stopping_rounds=5\n",
    "        )\n",
    "        y_pred = booster.predict(valid)\n",
    "        rmse = mean_squared_error(y_val, y_pred, squared=False)\n",
    "        \n",
    "        mlflow.set_tag(\"model\", \"xgboost\")\n",
    "        mlflow.log_params(params)\n",
    "        mlflow.log_metric(\"rmse\", rmse)\n",
    "\n",
    "    return {'loss': rmse, 'status': STATUS_OK}"
   ]
  },
  {
   "cell_type": "code",
   "execution_count": 20,
   "id": "2f49fa59",
   "metadata": {},
   "outputs": [],
   "source": [
    "search_space = {\n",
    "    'max_depth': scope.int(hp.quniform('max_depth', 4, 100, 1)),\n",
    "    'learning_rate': hp.loguniform('learning_rate', -3, 0),\n",
    "    'reg_alpha': hp.loguniform('reg_alpha', -5, -1),\n",
    "    'reg_lambda': hp.loguniform('reg_lambda', -6, -1),\n",
    "    'min_child_weight': hp.loguniform('min_child_weight', -1, 3),\n",
    "    'objective': 'reg:linear',\n",
    "    'seed': 42\n",
    "}"
   ]
  },
  {
   "cell_type": "code",
   "execution_count": 21,
   "id": "2e8b4ab1",
   "metadata": {
    "scrolled": true
   },
   "outputs": [
    {
     "name": "stdout",
     "output_type": "stream",
     "text": [
      "[07:28:40] WARNING: ../src/objective/regression_obj.cu:203: reg:linear is now deprecated in favor of reg:squarederror.\n",
      "[0]\tvalidation-rmse:14.75964                                                    \n",
      "[1]\tvalidation-rmse:10.98867                                                    \n",
      "[2]\tvalidation-rmse:8.89350                                                     \n",
      "[3]\tvalidation-rmse:7.78296                                                     \n",
      "[4]\tvalidation-rmse:7.20212                                                     \n",
      "[5]\tvalidation-rmse:6.89882                                                     \n",
      "[6]\tvalidation-rmse:6.73332                                                     \n",
      "[7]\tvalidation-rmse:6.64321                                                     \n",
      "[8]\tvalidation-rmse:6.58279                                                     \n",
      "[9]\tvalidation-rmse:6.54523                                                     \n",
      "[07:28:43] WARNING: ../src/objective/regression_obj.cu:203: reg:linear is now deprecated in favor of reg:squarederror.\n",
      "[0]\tvalidation-rmse:7.82433                                                     \n",
      "[1]\tvalidation-rmse:6.67313                                                     \n",
      "[2]\tvalidation-rmse:6.54469                                                     \n",
      "[3]\tvalidation-rmse:6.52136                                                     \n",
      "[4]\tvalidation-rmse:6.50962                                                     \n",
      "[5]\tvalidation-rmse:6.49796                                                     \n",
      "[6]\tvalidation-rmse:6.49041                                                     \n",
      "[7]\tvalidation-rmse:6.48323                                                     \n",
      "[8]\tvalidation-rmse:6.47603                                                     \n",
      "[9]\tvalidation-rmse:6.47077                                                     \n",
      "[07:28:47] WARNING: ../src/objective/regression_obj.cu:203: reg:linear is now deprecated in favor of reg:squarederror.\n",
      "[0]\tvalidation-rmse:19.98347                                                    \n",
      "[1]\tvalidation-rmse:18.86399                                                    \n",
      "[2]\tvalidation-rmse:17.82863                                                    \n",
      "[3]\tvalidation-rmse:16.87224                                                    \n",
      "[4]\tvalidation-rmse:15.98942                                                    \n",
      "[5]\tvalidation-rmse:15.17518                                                    \n",
      "[6]\tvalidation-rmse:14.42506                                                    \n",
      "[7]\tvalidation-rmse:13.73498                                                    \n",
      "[8]\tvalidation-rmse:13.10070                                                    \n",
      "[9]\tvalidation-rmse:12.51924                                                    \n",
      "[07:28:49] WARNING: ../src/objective/regression_obj.cu:203: reg:linear is now deprecated in favor of reg:squarederror.\n",
      "[0]\tvalidation-rmse:19.20355                                                    \n",
      "[1]\tvalidation-rmse:17.45945                                                    \n",
      "[2]\tvalidation-rmse:15.93604                                                    \n",
      "[3]\tvalidation-rmse:14.60710                                                    \n",
      "[4]\tvalidation-rmse:13.45296                                                    \n",
      "[5]\tvalidation-rmse:12.45401                                                    \n",
      "[6]\tvalidation-rmse:11.59218                                                    \n",
      "[7]\tvalidation-rmse:10.85252                                                    \n",
      "[8]\tvalidation-rmse:10.21775                                                    \n",
      "[9]\tvalidation-rmse:9.67629                                                     \n",
      "[07:28:50] WARNING: ../src/objective/regression_obj.cu:203: reg:linear is now deprecated in favor of reg:squarederror.\n",
      "[0]\tvalidation-rmse:10.29814                                                    \n",
      "[1]\tvalidation-rmse:7.53666                                                     \n",
      "[2]\tvalidation-rmse:6.90398                                                     \n",
      "[3]\tvalidation-rmse:6.73373                                                     \n",
      "[4]\tvalidation-rmse:6.67522                                                     \n",
      "[5]\tvalidation-rmse:6.65514                                                     \n",
      "[6]\tvalidation-rmse:6.64523                                                     \n",
      "[7]\tvalidation-rmse:6.63898                                                     \n",
      "[8]\tvalidation-rmse:6.63489                                                     \n",
      "[9]\tvalidation-rmse:6.62841                                                     \n",
      "[07:28:54] WARNING: ../src/objective/regression_obj.cu:203: reg:linear is now deprecated in favor of reg:squarederror.\n",
      "[0]\tvalidation-rmse:19.00480                                                    \n",
      "[1]\tvalidation-rmse:17.11239                                                    \n",
      "[2]\tvalidation-rmse:15.48147                                                    \n",
      "[3]\tvalidation-rmse:14.07918                                                    \n",
      "[4]\tvalidation-rmse:12.87904                                                    \n",
      "[5]\tvalidation-rmse:11.85601                                                    \n",
      "[6]\tvalidation-rmse:10.98824                                                    \n",
      "[7]\tvalidation-rmse:10.25573                                                    \n",
      "[8]\tvalidation-rmse:9.63638                                                     \n",
      "[9]\tvalidation-rmse:9.12020                                                     \n",
      "[07:28:55] WARNING: ../src/objective/regression_obj.cu:203: reg:linear is now deprecated in favor of reg:squarederror.\n",
      "[0]\tvalidation-rmse:11.98436                                                    \n",
      "[1]\tvalidation-rmse:8.42926                                                     \n",
      "[2]\tvalidation-rmse:7.20395                                                     \n",
      "[3]\tvalidation-rmse:6.79256                                                     \n",
      "[4]\tvalidation-rmse:6.63628                                                     \n",
      "[5]\tvalidation-rmse:6.57286                                                     \n",
      "[6]\tvalidation-rmse:6.53737                                                     \n",
      "[7]\tvalidation-rmse:6.52352                                                     \n",
      "[8]\tvalidation-rmse:6.51468                                                     \n",
      "[9]\tvalidation-rmse:6.50779                                                     \n",
      "[07:28:58] WARNING: ../src/objective/regression_obj.cu:203: reg:linear is now deprecated in favor of reg:squarederror.\n",
      "[0]\tvalidation-rmse:19.78250                                                    \n",
      "[1]\tvalidation-rmse:18.49458                                                    \n",
      "[2]\tvalidation-rmse:17.31922                                                    \n",
      "[3]\tvalidation-rmse:16.24876                                                    \n",
      "[4]\tvalidation-rmse:15.27443                                                    \n",
      "[5]\tvalidation-rmse:14.38942                                                    \n",
      "[6]\tvalidation-rmse:13.58625                                                    \n",
      "[7]\tvalidation-rmse:12.85804                                                    \n",
      "[8]\tvalidation-rmse:12.19980                                                    \n",
      "[9]\tvalidation-rmse:11.60563                                                    \n",
      "[07:29:02] WARNING: ../src/objective/regression_obj.cu:203: reg:linear is now deprecated in favor of reg:squarederror.\n",
      "[0]\tvalidation-rmse:18.24680                                                    \n",
      "[1]\tvalidation-rmse:15.84544                                                    \n",
      "[2]\tvalidation-rmse:13.89920                                                    \n",
      "[3]\tvalidation-rmse:12.33217                                                    \n",
      "[4]\tvalidation-rmse:11.08529                                                    \n",
      "[5]\tvalidation-rmse:10.09592                                                    \n",
      "[6]\tvalidation-rmse:9.32249                                                     \n",
      "[7]\tvalidation-rmse:8.72207                                                     \n",
      "[8]\tvalidation-rmse:8.25629                                                     \n",
      "[9]\tvalidation-rmse:7.89805                                                     \n",
      "[07:29:02] WARNING: ../src/objective/regression_obj.cu:203: reg:linear is now deprecated in favor of reg:squarederror.\n",
      "[0]\tvalidation-rmse:18.91171                                                    \n",
      "[1]\tvalidation-rmse:16.95776                                                    \n",
      "[2]\tvalidation-rmse:15.28555                                                    \n",
      "[3]\tvalidation-rmse:13.86238                                                    \n",
      "[4]\tvalidation-rmse:12.65020                                                    \n",
      "[5]\tvalidation-rmse:11.63348                                                    \n",
      "[6]\tvalidation-rmse:10.77468                                                    \n",
      "[7]\tvalidation-rmse:10.05094                                                    \n",
      "[8]\tvalidation-rmse:9.45577                                                     \n",
      "[9]\tvalidation-rmse:8.95649                                                     \n",
      "[07:29:05] WARNING: ../src/objective/regression_obj.cu:203: reg:linear is now deprecated in favor of reg:squarederror.\n",
      "[0]\tvalidation-rmse:9.34249                                                     \n",
      "[1]\tvalidation-rmse:7.13459                                                     \n",
      "[2]\tvalidation-rmse:6.75040                                                     \n",
      "[3]\tvalidation-rmse:6.65538                                                     \n",
      "[4]\tvalidation-rmse:6.62817                                                     \n",
      "[5]\tvalidation-rmse:6.61219                                                     \n",
      "[6]\tvalidation-rmse:6.59993                                                     \n",
      "[7]\tvalidation-rmse:6.59531                                                     \n",
      "[8]\tvalidation-rmse:6.58984                                                     \n",
      "[9]\tvalidation-rmse:6.57872                                                     \n",
      "[07:29:08] WARNING: ../src/objective/regression_obj.cu:203: reg:linear is now deprecated in favor of reg:squarederror.\n",
      "[0]\tvalidation-rmse:19.71320                                                    \n",
      "[1]\tvalidation-rmse:18.36925                                                    \n",
      "[2]\tvalidation-rmse:17.15123                                                    \n",
      "[3]\tvalidation-rmse:16.04391                                                    \n",
      "[4]\tvalidation-rmse:15.04523                                                    \n",
      "[5]\tvalidation-rmse:14.14261                                                    \n",
      "[6]\tvalidation-rmse:13.32662                                                    \n",
      "[7]\tvalidation-rmse:12.59316                                                    \n",
      "[8]\tvalidation-rmse:11.93242                                                    \n",
      "[9]\tvalidation-rmse:11.34143                                                    \n",
      "[07:29:10] WARNING: ../src/objective/regression_obj.cu:203: reg:linear is now deprecated in favor of reg:squarederror.\n",
      "[0]\tvalidation-rmse:20.08657                                                    \n",
      "[1]\tvalidation-rmse:19.05498                                                    \n",
      "[2]\tvalidation-rmse:18.09415                                                    \n",
      "[3]\tvalidation-rmse:17.19986                                                    \n",
      "[4]\tvalidation-rmse:16.36797                                                    \n",
      "[5]\tvalidation-rmse:15.59448                                                    \n",
      "[6]\tvalidation-rmse:14.87608                                                    \n",
      "[7]\tvalidation-rmse:14.20942                                                    \n",
      "[8]\tvalidation-rmse:13.59109                                                    \n",
      "[9]\tvalidation-rmse:13.01864                                                    \n",
      "[07:29:13] WARNING: ../src/objective/regression_obj.cu:203: reg:linear is now deprecated in favor of reg:squarederror.\n",
      "[0]\tvalidation-rmse:16.49183                                                    \n",
      "[1]\tvalidation-rmse:13.18916                                                    \n",
      "[2]\tvalidation-rmse:10.90982                                                    \n",
      "[3]\tvalidation-rmse:9.38004                                                     \n",
      "[4]\tvalidation-rmse:8.37116                                                     \n",
      "[5]\tvalidation-rmse:7.71901                                                     \n",
      "[6]\tvalidation-rmse:7.29833                                                     \n",
      "[7]\tvalidation-rmse:7.02375                                                     \n",
      "[8]\tvalidation-rmse:6.85044                                                     \n",
      "[9]\tvalidation-rmse:6.73384                                                     \n",
      "[07:29:17] WARNING: ../src/objective/regression_obj.cu:203: reg:linear is now deprecated in favor of reg:squarederror.\n",
      "[0]\tvalidation-rmse:19.88217                                                    \n",
      "[1]\tvalidation-rmse:18.67794                                                    \n",
      "[2]\tvalidation-rmse:17.57313                                                    \n",
      "[3]\tvalidation-rmse:16.55821                                                    \n",
      "[4]\tvalidation-rmse:15.62971                                                    \n",
      "[5]\tvalidation-rmse:14.77950                                                    \n",
      "[6]\tvalidation-rmse:14.00377                                                    \n",
      "[7]\tvalidation-rmse:13.29470                                                    \n",
      "[8]\tvalidation-rmse:12.64918                                                    \n",
      "[9]\tvalidation-rmse:12.06217                                                    \n",
      "[07:29:18] WARNING: ../src/objective/regression_obj.cu:203: reg:linear is now deprecated in favor of reg:squarederror.\n",
      "[0]\tvalidation-rmse:19.09680                                                    \n",
      "[1]\tvalidation-rmse:17.27173                                                    \n",
      "[2]\tvalidation-rmse:15.68286                                                    \n",
      "[3]\tvalidation-rmse:14.30713                                                    \n",
      "[4]\tvalidation-rmse:13.12294                                                    \n",
      "[5]\tvalidation-rmse:12.09872                                                    \n",
      "[6]\tvalidation-rmse:11.22317                                                    \n",
      "[7]\tvalidation-rmse:10.47709                                                    \n",
      "[8]\tvalidation-rmse:9.84084                                                     \n",
      "[9]\tvalidation-rmse:9.30663                                                     \n",
      "[07:29:23] WARNING: ../src/objective/regression_obj.cu:203: reg:linear is now deprecated in favor of reg:squarederror.\n",
      "[0]\tvalidation-rmse:11.15992                                                    \n",
      "[1]\tvalidation-rmse:7.95104                                                     \n",
      "[2]\tvalidation-rmse:7.06030                                                     \n",
      "[3]\tvalidation-rmse:6.79933                                                     \n",
      "[4]\tvalidation-rmse:6.70895                                                     \n",
      "[5]\tvalidation-rmse:6.67411                                                     \n",
      "[6]\tvalidation-rmse:6.66191                                                     \n",
      "[7]\tvalidation-rmse:6.65297                                                     \n",
      "[8]\tvalidation-rmse:6.64334                                                     \n",
      "[9]\tvalidation-rmse:6.63177                                                     \n",
      "[07:29:24] WARNING: ../src/objective/regression_obj.cu:203: reg:linear is now deprecated in favor of reg:squarederror.\n",
      "[0]\tvalidation-rmse:16.75542                                                    \n",
      "[1]\tvalidation-rmse:13.57091                                                    \n",
      "[2]\tvalidation-rmse:11.33283                                                    \n",
      "[3]\tvalidation-rmse:9.79299                                                     \n"
     ]
    },
    {
     "name": "stdout",
     "output_type": "stream",
     "text": [
      "[4]\tvalidation-rmse:8.75739                                                     \n",
      "[5]\tvalidation-rmse:8.07340                                                     \n",
      "[6]\tvalidation-rmse:7.62487                                                     \n",
      "[7]\tvalidation-rmse:7.33050                                                     \n",
      "[8]\tvalidation-rmse:7.13565                                                     \n",
      "[9]\tvalidation-rmse:7.00993                                                     \n",
      "[07:29:25] WARNING: ../src/objective/regression_obj.cu:203: reg:linear is now deprecated in favor of reg:squarederror.\n",
      "[0]\tvalidation-rmse:10.07758                                                    \n",
      "[1]\tvalidation-rmse:7.44344                                                     \n",
      "[2]\tvalidation-rmse:6.89377                                                     \n",
      "[3]\tvalidation-rmse:6.75877                                                     \n",
      "[4]\tvalidation-rmse:6.71779                                                     \n",
      "[5]\tvalidation-rmse:6.69725                                                     \n",
      "[6]\tvalidation-rmse:6.69032                                                     \n",
      "[7]\tvalidation-rmse:6.68361                                                     \n",
      "[8]\tvalidation-rmse:6.67814                                                     \n",
      "[9]\tvalidation-rmse:6.67070                                                     \n",
      "[07:29:26] WARNING: ../src/objective/regression_obj.cu:203: reg:linear is now deprecated in favor of reg:squarederror.\n",
      "[0]\tvalidation-rmse:20.19920                                                    \n",
      "[1]\tvalidation-rmse:19.26604                                                    \n",
      "[2]\tvalidation-rmse:18.38940                                                    \n",
      "[3]\tvalidation-rmse:17.56710                                                    \n",
      "[4]\tvalidation-rmse:16.79565                                                    \n",
      "[5]\tvalidation-rmse:16.07297                                                    \n",
      "[6]\tvalidation-rmse:15.39602                                                    \n",
      "[7]\tvalidation-rmse:14.76275                                                    \n",
      "[8]\tvalidation-rmse:14.17060                                                    \n",
      "[9]\tvalidation-rmse:13.61726                                                    \n",
      "100%|██████████| 20/20 [00:51<00:00,  2.57s/trial, best loss: 6.470774539052995]\n"
     ]
    }
   ],
   "source": [
    "best_result = fmin(\n",
    "    fn=objective,\n",
    "    space=search_space,\n",
    "    algo=tpe.suggest,\n",
    "    max_evals=20,\n",
    "    trials=Trials()\n",
    ")"
   ]
  },
  {
   "cell_type": "code",
   "execution_count": 22,
   "id": "f1851433",
   "metadata": {},
   "outputs": [
    {
     "data": {
      "text/plain": [
       "{'learning_rate': 0.8348727631802135,\n",
       " 'max_depth': 79.0,\n",
       " 'min_child_weight': 1.28514357799322,\n",
       " 'reg_alpha': 0.017669633129935643,\n",
       " 'reg_lambda': 0.07826001639366655}"
      ]
     },
     "execution_count": 22,
     "metadata": {},
     "output_type": "execute_result"
    }
   ],
   "source": [
    "best_result"
   ]
  },
  {
   "cell_type": "markdown",
   "id": "f98ef924",
   "metadata": {},
   "source": [
    "### Entrenando con el mejor modelo y logueando con auto_log"
   ]
  },
  {
   "cell_type": "code",
   "execution_count": 15,
   "id": "78270e29",
   "metadata": {
    "scrolled": true
   },
   "outputs": [
    {
     "name": "stderr",
     "output_type": "stream",
     "text": [
      "2022/08/03 21:44:35 INFO mlflow.utils.autologging_utils: Created MLflow autologging run with ID '8381f0bdba5e4b32881f7d8c8675ab83', which will track hyperparameters, performance metrics, model artifacts, and lineage information for the current xgboost workflow\n"
     ]
    },
    {
     "name": "stdout",
     "output_type": "stream",
     "text": [
      "[21:44:35] WARNING: ../src/objective/regression_obj.cu:203: reg:linear is now deprecated in favor of reg:squarederror.\n",
      "[0]\tvalidation-rmse:7.82433\n",
      "[1]\tvalidation-rmse:6.67313\n",
      "[2]\tvalidation-rmse:6.54469\n",
      "[3]\tvalidation-rmse:6.52136\n",
      "[4]\tvalidation-rmse:6.50962\n",
      "[5]\tvalidation-rmse:6.49796\n",
      "[6]\tvalidation-rmse:6.49041\n",
      "[7]\tvalidation-rmse:6.48323\n",
      "[8]\tvalidation-rmse:6.47603\n",
      "[9]\tvalidation-rmse:6.47077\n",
      "[10]\tvalidation-rmse:6.46502\n",
      "[11]\tvalidation-rmse:6.46377\n",
      "[12]\tvalidation-rmse:6.46018\n",
      "[13]\tvalidation-rmse:6.45509\n",
      "[14]\tvalidation-rmse:6.45059\n",
      "[15]\tvalidation-rmse:6.44681\n",
      "[16]\tvalidation-rmse:6.44269\n",
      "[17]\tvalidation-rmse:6.43714\n",
      "[18]\tvalidation-rmse:6.43789\n",
      "[19]\tvalidation-rmse:6.43421\n",
      "[20]\tvalidation-rmse:6.43067\n",
      "[21]\tvalidation-rmse:6.43187\n",
      "[22]\tvalidation-rmse:6.42977\n",
      "[23]\tvalidation-rmse:6.42935\n",
      "[24]\tvalidation-rmse:6.42936\n",
      "[25]\tvalidation-rmse:6.43103\n",
      "[26]\tvalidation-rmse:6.42929\n",
      "[27]\tvalidation-rmse:6.43386\n",
      "[28]\tvalidation-rmse:6.43169\n",
      "[29]\tvalidation-rmse:6.43064\n",
      "[30]\tvalidation-rmse:6.42805\n",
      "[31]\tvalidation-rmse:6.42911\n",
      "[32]\tvalidation-rmse:6.42744\n",
      "[33]\tvalidation-rmse:6.42805\n",
      "[34]\tvalidation-rmse:6.44383\n",
      "[35]\tvalidation-rmse:6.44713\n",
      "[36]\tvalidation-rmse:6.45726\n",
      "[37]\tvalidation-rmse:6.46127\n",
      "[38]\tvalidation-rmse:6.45912\n",
      "[39]\tvalidation-rmse:6.45763\n",
      "[40]\tvalidation-rmse:6.45595\n",
      "[41]\tvalidation-rmse:6.45526\n",
      "[42]\tvalidation-rmse:6.45440\n",
      "[43]\tvalidation-rmse:6.45374\n",
      "[44]\tvalidation-rmse:6.45490\n",
      "[45]\tvalidation-rmse:6.46749\n",
      "[46]\tvalidation-rmse:6.46922\n",
      "[47]\tvalidation-rmse:6.46865\n",
      "[48]\tvalidation-rmse:6.46877\n",
      "[49]\tvalidation-rmse:6.46784\n",
      "[50]\tvalidation-rmse:6.46810\n",
      "[51]\tvalidation-rmse:6.46861\n",
      "[52]\tvalidation-rmse:6.47194\n",
      "[53]\tvalidation-rmse:6.47220\n",
      "[54]\tvalidation-rmse:6.47839\n",
      "[55]\tvalidation-rmse:6.47987\n",
      "[56]\tvalidation-rmse:6.48043\n",
      "[57]\tvalidation-rmse:6.47899\n",
      "[58]\tvalidation-rmse:6.47802\n",
      "[59]\tvalidation-rmse:6.47854\n",
      "[60]\tvalidation-rmse:6.47818\n",
      "[61]\tvalidation-rmse:6.47856\n",
      "[62]\tvalidation-rmse:6.48000\n",
      "[63]\tvalidation-rmse:6.48561\n",
      "[64]\tvalidation-rmse:6.48881\n",
      "[65]\tvalidation-rmse:6.49139\n",
      "[66]\tvalidation-rmse:6.49140\n",
      "[67]\tvalidation-rmse:6.49585\n",
      "[68]\tvalidation-rmse:6.49666\n",
      "[69]\tvalidation-rmse:6.49460\n",
      "[70]\tvalidation-rmse:6.49563\n",
      "[71]\tvalidation-rmse:6.49804\n",
      "[72]\tvalidation-rmse:6.50074\n",
      "[73]\tvalidation-rmse:6.50123\n",
      "[74]\tvalidation-rmse:6.50207\n",
      "[75]\tvalidation-rmse:6.50868\n",
      "[76]\tvalidation-rmse:6.50973\n",
      "[77]\tvalidation-rmse:6.51373\n",
      "[78]\tvalidation-rmse:6.51257\n",
      "[79]\tvalidation-rmse:6.51214\n",
      "[80]\tvalidation-rmse:6.51241\n",
      "[81]\tvalidation-rmse:6.51312\n",
      "[82]\tvalidation-rmse:6.52089\n"
     ]
    },
    {
     "name": "stderr",
     "output_type": "stream",
     "text": [
      "2022/08/03 21:45:18 WARNING mlflow.xgboost: Failed to infer model signature: could not sample data to infer model signature: please ensure that autologging is enabled before constructing the dataset.\n"
     ]
    }
   ],
   "source": [
    "params_ = {'learning_rate': 0.8348727631802135,\n",
    "           'max_depth': 79,\n",
    "           'min_child_weight': 1.28514357799322,\n",
    "           'reg_alpha': 0.017669633129935643,\n",
    "           'reg_lambda': 0.07826001639366655,\n",
    "           'objective': 'reg:linear',\n",
    "           'seed': 42}\n",
    "\n",
    "mlflow.xgboost.autolog()\n",
    "#mlflow.xgboost.autolog(disable=True)\n",
    "\n",
    "booster = xgb.train(\n",
    "            params=params_,\n",
    "            dtrain=train,\n",
    "            num_boost_round=1000,\n",
    "            evals=[(valid, 'validation')],\n",
    "            early_stopping_rounds=50\n",
    "        )"
   ]
  },
  {
   "cell_type": "markdown",
   "id": "f007397d",
   "metadata": {},
   "source": [
    "---"
   ]
  },
  {
   "cell_type": "code",
   "execution_count": 23,
   "id": "e69a07cb",
   "metadata": {},
   "outputs": [],
   "source": [
    "mlflow.end_run()"
   ]
  },
  {
   "cell_type": "markdown",
   "id": "c4464e47",
   "metadata": {},
   "source": [
    "### Log model "
   ]
  },
  {
   "cell_type": "code",
   "execution_count": 18,
   "id": "5733095f",
   "metadata": {},
   "outputs": [
    {
     "name": "stdout",
     "output_type": "stream",
     "text": [
      "[11:42:51] WARNING: ../src/objective/regression_obj.cu:203: reg:linear is now deprecated in favor of reg:squarederror.\n",
      "[0]\tvalidation-rmse:7.82433\n",
      "[1]\tvalidation-rmse:6.67313\n",
      "[2]\tvalidation-rmse:6.54469\n",
      "[3]\tvalidation-rmse:6.52136\n",
      "[4]\tvalidation-rmse:6.50962\n",
      "[5]\tvalidation-rmse:6.49796\n",
      "[6]\tvalidation-rmse:6.49041\n",
      "[7]\tvalidation-rmse:6.48323\n",
      "[8]\tvalidation-rmse:6.47603\n",
      "[9]\tvalidation-rmse:6.47077\n"
     ]
    },
    {
     "name": "stderr",
     "output_type": "stream",
     "text": [
      "/home/sebastian/anaconda3/envs/exp-tracking-env/lib/python3.9/site-packages/_distutils_hack/__init__.py:33: UserWarning: Setuptools is replacing distutils.\n",
      "  warnings.warn(\"Setuptools is replacing distutils.\")\n"
     ]
    }
   ],
   "source": [
    "with mlflow.start_run():\n",
    "    \n",
    "    params = {'learning_rate': 0.8348727631802135,\n",
    "           'max_depth': 79,\n",
    "           'min_child_weight': 1.28514357799322,\n",
    "           'reg_alpha': 0.017669633129935643,\n",
    "           'reg_lambda': 0.07826001639366655,\n",
    "           'objective': 'reg:linear',\n",
    "           'seed': 42}\n",
    "    \n",
    "    booster = xgb.train(\n",
    "        params=params,\n",
    "        dtrain=train,\n",
    "        num_boost_round=10,\n",
    "        evals=[(valid, 'validation')],\n",
    "        early_stopping_rounds=5\n",
    "    )\n",
    "    y_pred = booster.predict(valid)\n",
    "    rmse = mean_squared_error(y_val, y_pred, squared=False)\n",
    "\n",
    "    mlflow.set_tag(\"model\", \"xgboost\")\n",
    "    mlflow.log_params(params)\n",
    "    mlflow.log_metric(\"rmse\", rmse)\n",
    "    \n",
    "    with open('../resources/models/preprocessor.b', 'wb') as f_out:\n",
    "        pickle.dump(dv, f_out)\n",
    "    \n",
    "    mlflow.log_artifact(local_path=\"../resources/models/preprocessor.b\",\n",
    "                        artifact_path=\"preprocessor\")\n",
    "    mlflow.xgboost.log_model(booster, artifact_path=\"models_mlflow\")"
   ]
  }
 ],
 "metadata": {
  "kernelspec": {
   "display_name": "Python 3 (ipykernel)",
   "language": "python",
   "name": "python3"
  },
  "language_info": {
   "codemirror_mode": {
    "name": "ipython",
    "version": 3
   },
   "file_extension": ".py",
   "mimetype": "text/x-python",
   "name": "python",
   "nbconvert_exporter": "python",
   "pygments_lexer": "ipython3",
   "version": "3.9.13"
  }
 },
 "nbformat": 4,
 "nbformat_minor": 5
}
